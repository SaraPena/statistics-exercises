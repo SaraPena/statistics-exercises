{
 "cells": [
  {
   "cell_type": "markdown",
   "metadata": {},
   "source": [
    "Do your work for this exercise in a jupyter notebook named `hypothesis_testing.ipynb`."
   ]
  },
  {
   "cell_type": "markdown",
   "metadata": {},
   "source": [
    "For each of the following questions, formulate a null and alternative hypothesis (be as specific as you can be), then give an example of what a true positive, true negative, type 1 and type 2 errors will look like."
   ]
  },
  {
   "cell_type": "markdown",
   "metadata": {},
   "source": [
    "- Is the website redesign any good?"
   ]
  },
  {
   "cell_type": "markdown",
   "metadata": {},
   "source": [
    "H<sub>0</sub> : Our website page visits are the same\n",
    "\n",
    "H<sub>a</sub> : Our website page visits are greater"
   ]
  },
  {
   "cell_type": "markdown",
   "metadata": {},
   "source": [
    "True Positive: We find that our webpage visits are not the same, and really our webpage visits are not the same\n",
    "\n",
    "True Negative: We find that our webpage visits are the same, and really our webpage visits are the same\n",
    "\n",
    "Type 1 Error: We find that our webpage visits are not the same, but in reality the webpage page visits are the same.\n",
    "\n",
    "Type 2 Error: We find the our webpage visits are the same, but in reality our webpage visits are not the same."
   ]
  },
  {
   "cell_type": "markdown",
   "metadata": {},
   "source": [
    "- Is our television ad driving more sales?"
   ]
  },
  {
   "cell_type": "markdown",
   "metadata": {},
   "source": [
    "H<sub>0</sub> : Our sales are the same after our tv add started\n",
    "\n",
    "H<sub>a</sub> : Our sales are not the same after our tv add started"
   ]
  },
  {
   "cell_type": "markdown",
   "metadata": {},
   "source": [
    "True Positive: We find that our sales are not the same after their tv add aired, and really our sales are not the same after our tv add aired"
   ]
  },
  {
   "cell_type": "markdown",
   "metadata": {},
   "source": [
    "True Negative: Our test shows sales the same after our tv add aired, and in reality our sales are the same after our tv add aired."
   ]
  },
  {
   "cell_type": "markdown",
   "metadata": {},
   "source": [
    "Type 1 error: Our test shows that that our sales are not the same after our tv add aired, In reality our sales are the same after our tv add aired. "
   ]
  },
  {
   "cell_type": "markdown",
   "metadata": {},
   "source": [
    "Type 2 error: Our test shows that sales are the same after our tv add aired. In reality our sales are not the same after our tv add aired."
   ]
  },
  {
   "cell_type": "markdown",
   "metadata": {},
   "source": [
    "- Has the network latency gone up since we switched internet service providers?"
   ]
  },
  {
   "cell_type": "markdown",
   "metadata": {},
   "source": [
    "H<sub>0</sub> : Our network latency is the same as before we switched internet service providers.\n",
    "\n",
    "H<sub>a</sub> : Our network latency is different than before we switched internet service providers"
   ]
  },
  {
   "cell_type": "markdown",
   "metadata": {},
   "source": [
    "True Positive: Our test finds that network latency is not the same as before we switched internet providers, and really the network latency is not the the same as before we switched internet providers."
   ]
  },
  {
   "cell_type": "markdown",
   "metadata": {},
   "source": [
    "True Negative: Our test finds that network latency is the same as before switching internet providers. Really our newtork latency is the same as before switching network providers."
   ]
  },
  {
   "cell_type": "markdown",
   "metadata": {},
   "source": [
    "Type 1 Error: Our test finds that the network latency is not the same as before switching internet providers. In reality our network latency is the same as before switching internet providers."
   ]
  },
  {
   "cell_type": "markdown",
   "metadata": {},
   "source": [
    "Type 2 Error: Our test finds that network latency is the same as before switching internet providers. In reality network latency is not the same as before switching internet providers"
   ]
  },
  {
   "cell_type": "code",
   "execution_count": null,
   "metadata": {},
   "outputs": [],
   "source": []
  }
 ],
 "metadata": {
  "kernelspec": {
   "display_name": "Python 3",
   "language": "python",
   "name": "python3"
  },
  "language_info": {
   "codemirror_mode": {
    "name": "ipython",
    "version": 3
   },
   "file_extension": ".py",
   "mimetype": "text/x-python",
   "name": "python",
   "nbconvert_exporter": "python",
   "pygments_lexer": "ipython3",
   "version": "3.7.3"
  }
 },
 "nbformat": 4,
 "nbformat_minor": 2
}
